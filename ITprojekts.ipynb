{
 "cells": [
  {
   "cell_type": "markdown",
   "metadata": {},
   "source": [
    "*Diemžēl man ar datorn ir nelilas problēmas, tāpēc man nesanāk palats programs savā datorā. Tomēr es pārbaudīju uz Cities datoriem un tur viss strādā.*"
   ]
  },
  {
   "cell_type": "code",
   "execution_count": null,
   "metadata": {},
   "outputs": [],
   "source": []
  },
  {
   "cell_type": "code",
   "execution_count": 25,
   "metadata": {},
   "outputs": [],
   "source": [
    "import ipywidgets as widgets\n",
    "from ipywidgets import interact, interactive, fixed, interact_manual\n",
    "import matplotlib.pyplot as plt\n",
    "import numpy as np\n",
    "from random import uniform"
   ]
  },
  {
   "cell_type": "markdown",
   "metadata": {},
   "source": [
    "# Plēsēju-medījuma dinamikas analīze\n",
    "## Lotka-Volterra modelis\n",
    "Amerikānis Alfrēds Lotka (Alfred Lotka) un itālis Vito Volterra (Vito Volterra) ir izstrādājuši modeli, lai aprakstītu, kā plēsēju un to zālēdāju upuru populācijas mainās atkarībā no dažādiem iespējamiem apstākļiem."
   ]
  },
  {
   "cell_type": "markdown",
   "metadata": {},
   "source": [
    "Lotka-Volterra sistēma ir sākotnējā un vienkāršākā sistēma (pastāv arī sarežģītākas sistēmas, piemēram, tā, kas iekłauj arī dzīvnieku migrāciju), lai aprakstītu plēsoņa un upura modeli, t. i., plēsēju populācija un upuru populācija mijiedarbojas kādā vidē: upuri ēd veģetāciju, plēsēji ēd upurus:"
   ]
  },
  {
   "cell_type": "markdown",
   "metadata": {},
   "source": [
    "$$\n",
    "    \\begin{cases}\n",
    "    \\frac {dx}{dt} = (\\alpha - \\beta y)\\cdot x\\\\\n",
    "    \\frac {dy}{dt} = (\\delta x - \\gamma )\\cdot y\n",
    "    \\end{cases}\n",
    "$$"
   ]
  },
  {
   "cell_type": "markdown",
   "metadata": {},
   "source": [
    "kur\\\n",
    "x - upuru skaits (zālēdāji); \\\n",
    "y - plēsēju skaits; \\\n",
    "$\\alpha$ - varbūtība, ka zālēdāji vairosies; \\\n",
    "$\\beta$ - varbūtība, ka zālēdāju apēdīs plēsējs; \\\n",
    "$\\gamma$ - varbūtība, ka plēsējs nomirs badā; \\\n",
    "$\\delta$ - varbūtība, ka plēsējam ir pietiekami daudz barības, lai turpinātu vairoties."
   ]
  },
  {
   "cell_type": "markdown",
   "metadata": {},
   "source": [
    "Šajā projektā tiek analizēta plesēju-medijuma dinamika, izmantojot Lotka-Volterra modeli. "
   ]
  },
  {
   "cell_type": "markdown",
   "metadata": {},
   "source": [
    "Par plēsēju es pieņemu vilku\\\n",
    "![Vilks](https://img.latvijasdaba.lv/content/ziditaji/canis-lupus-linnaeus-1758-B-420x300.jpg)"
   ]
  },
  {
   "cell_type": "markdown",
   "metadata": {},
   "source": [
    "Par upuri(zālēdāju) es pieņemu aitu\\\n",
    "![Aita](https://cdn.valmieraszinas.lv/wp-content/uploads/2014/07/aita.jpg)"
   ]
  },
  {
   "cell_type": "markdown",
   "metadata": {},
   "source": [
    "## Funkcijas grafiks"
   ]
  },
  {
   "cell_type": "code",
   "execution_count": 41,
   "metadata": {},
   "outputs": [
    {
     "data": {
      "application/vnd.jupyter.widget-view+json": {
       "model_id": "5d3fc266ebc4427ba2ab5b541bd27dae",
       "version_major": 2,
       "version_minor": 0
      },
      "text/plain": [
       "interactive(children=(FloatSlider(value=0.7, description='alpha', max=1.0, step=0.01), FloatSlider(value=0.3, …"
      ]
     },
     "metadata": {},
     "output_type": "display_data"
    }
   ],
   "source": [
    "x_init = 10 \n",
    "y_init = 5 \n",
    "\n",
    "def x_derivative(alpha, beta,x,y,c=0):\n",
    "       return (alpha-beta*y)*x+c/x\n",
    "\n",
    "def y_derivative(gamma, delta,x, y,d=0):\n",
    "        return (delta*x-gamma)*y+d/y\n",
    "\n",
    "def LoVo_model(alpha, beta, gamma, delta, x_init, y_init, ts,c=0,d=0, dev=0.0):\n",
    "        xs=[x_init]\n",
    "        ys=[y_init]\n",
    "        \n",
    "        stepsize = (ts-0)/(ts*100)\n",
    "\n",
    "        t = np.linspace(0, ts, ts*100)\n",
    "        for _ in t:\n",
    "                x = xs[-1]\n",
    "                y = ys[-1]\n",
    "                x1 = x_derivative(alpha, beta, x, y,c)\n",
    "                y1 = y_derivative(gamma, delta, x, y,d)\n",
    "                if dev!=0:\n",
    "                        x1*=uniform(1-dev,1+dev)                \n",
    "                        y1*=uniform(1-dev,1+dev)\n",
    "                xs.append(x+x1*stepsize) #riemann sum\n",
    "                ys.append(y+y1*stepsize)\n",
    "        return t,xs,ys\n",
    "\n",
    "def plot_LoVo_model(t,xs,ys,ts):\n",
    "        fig, ax = plt.subplots(figsize=(6, 4))\n",
    "        ax.grid(True)   \n",
    "        [l.remove() for l in ax.lines]\n",
    "        #plot new\n",
    "        t=np.linspace(0, ts, ts*100+1)\n",
    "        x, = ax.plot(t,xs, linewidth=0.5, color='blue')\n",
    "        y, = ax.plot(t,ys, linewidth=0.5, color='red')\n",
    "        plt.xlabel('Laiks') \n",
    "        plt.ylabel('Dzīvnieku skaits') \n",
    "        plt.title('Plēsēju un zālēdaju daudzums atkārībā no laika')\n",
    "        return fig\n",
    "\n",
    "def plot_LOVO_model_2(xs,ys):\n",
    "        fig, ax = plt.subplots(figsize = (6,4))\n",
    "        ax.grid(True)\n",
    "        [l.remove() for l in ax.lines]\n",
    "        x, = ax.plot(xs,ys, linewidth=0.5, color='green')\n",
    "        plt.xlabel('Zālēdāju skaits') \n",
    "        plt.ylabel('Plēsēju skaits') \n",
    "        plt.title('Sakarība starp plēsēju un zālēdaju skaitu')\n",
    "        return fig\n",
    "\n",
    "def update_LoVo_model(alpha, beta, gamma, delta, x_init, y_init, time_period,c=0,d=0,which_Lovo_model=True,dev=0):\n",
    "        time_period = int(time_period)\n",
    "        t, xs, ys = LoVo_model(alpha, beta, gamma, delta, x_init, y_init, time_period,c,d,dev)\n",
    "        if(which_Lovo_model==True):\n",
    "                fig = plot_LoVo_model(t, xs, ys, time_period)\n",
    "        else:\n",
    "                fig = plot_LOVO_model_2(xs,ys)\n",
    "        fig.canvas.draw()\n",
    "        return alpha\n",
    "        \n",
    "\n",
    "interact(update_LoVo_model, \n",
    "       alpha = widgets.FloatSlider(value=0.7,min=0,max=1.0,step=0.01),\n",
    "        beta = widgets.FloatSlider(value=0.3,min=0,max=1.0,step=0.01),\n",
    "        gamma = widgets.FloatSlider(value=0.3,min=0,max=1.0,step=0.01),\n",
    "        delta = widgets.FloatSlider(value=0.5,min=0,max=1.0,step=0.01),\n",
    "        x_init = widgets.FloatSlider(value=10,min=0,max=40,step=1),\n",
    "        y_init = widgets.FloatSlider(value=5,min=0,max=40,step=1),\n",
    "        time_period = widgets.FloatSlider(value= 100,min=1,max=100,step=1),\n",
    "        c = fixed(0),\n",
    "        d = fixed(0),\n",
    "        which_Lovo_model = fixed(True),\n",
    "        dev =  widgets.FloatSlider(value=4,min=0,max=5,step=0.1)       \n",
    "        );"
   ]
  },
  {
   "cell_type": "markdown",
   "metadata": {},
   "source": [
    "kur\\\n",
    "alpha - varbūtība, ka zālēdāji vairosies; \\\n",
    "beta - varbūtība, ka zālēdāju apēdīs plēsējs; \\\n",
    "gamma - varbūtība, ka plēsējs nomirs badā; \\\n",
    "delta - varbūtība, ka plēsējam ir pietiekami daudz barības, lai turpinātu vairoties; \\\n",
    "x_init - sākotnējais zāļēdāju skaits; \\\n",
    "y_init - sākotnējais plēsēju skaits; \\\n",
    "time_period - dienu skaits; \\\n",
    "dev - stohatiskuma koeficients.\n"
   ]
  },
  {
   "cell_type": "markdown",
   "metadata": {},
   "source": [
    "## Sakarība starp plēsēju un zālēdaju skaitu"
   ]
  },
  {
   "cell_type": "markdown",
   "metadata": {},
   "source": [
    "Vienā no saviem darbiem Lotka kā piemēru aprakstīja auga un zālēdāja mijiedarbību un nonāca pie viņam pašam negaidīta rezultāta: to mijiedarbība izraisītu abu populāciju bezgalīgas cikliskas svārstības! Fāžu līknes iet pa apli, veidojot bezgalīgas cikliskas svārstības. Vēlāk Lotka šo novērojumu attiecināja arī uz plēsēja un upura mijiedarbību (šī mijiedarbība ir parādīta grafikā zemāk). Tas nozīmē, ka vienas sugas īpatņu skaits pieaugs, citas sugas īpatņu skaits samazināsies, tad otrādi, un tā neierobežotu laiku (protams, saprātīgās robežās)."
   ]
  },
  {
   "cell_type": "code",
   "execution_count": 16,
   "metadata": {},
   "outputs": [
    {
     "data": {
      "application/vnd.jupyter.widget-view+json": {
       "model_id": "3f42d4d7eafa465aa3407dd93ca2bb62",
       "version_major": 2,
       "version_minor": 0
      },
      "text/plain": [
       "interactive(children=(FloatSlider(value=0.4, description='alpha', max=1.0, step=0.01), FloatSlider(value=0.1, …"
      ]
     },
     "metadata": {},
     "output_type": "display_data"
    }
   ],
   "source": [
    "interact(update_LoVo_model, \n",
    "       alpha = widgets.FloatSlider(value=0.4,min=0,max=1.0,step=0.01),\n",
    "        beta = widgets.FloatSlider(value=0.1,min=0,max=1.0,step=0.01),\n",
    "        gamma = widgets.FloatSlider(value=0.7,min=0,max=1.0,step=0.01),\n",
    "        delta = widgets.FloatSlider(value=0.5,min=0,max=1.0,step=0.01),\n",
    "        x_init = widgets.FloatSlider(value=10,min=0,max=40,step=1),\n",
    "        y_init = widgets.FloatSlider(value=5,min=0,max=40,step=1),\n",
    "        time_period = widgets.FloatSlider(value= 1000,min=1,max=10000,step=1),\n",
    "        c = fixed(0),\n",
    "        d = fixed(0),\n",
    "        which_Lovo_model = fixed(False)        \n",
    "        );"
   ]
  },
  {
   "cell_type": "markdown",
   "metadata": {},
   "source": [
    "kur\\\n",
    "alpha - varbūtība, ka zālēdāji vairosies; \\\n",
    "beta - varbūtība, ka zālēdāju apēdīs plēsējs; \\\n",
    "gamma - varbūtība, ka plēsējs nomirs badā; \\\n",
    "delta - varbūtība, ka plēsējam ir pietiekami daudz barības, lai turpinātu vairoties; \\\n",
    "x_init - sākotnējais zāļēdāju skaits; \\\n",
    "y_init - sākotnējais plēsēju skaits; \\\n",
    "time_period - dienu skaits; \\"
   ]
  },
  {
   "cell_type": "markdown",
   "metadata": {},
   "source": [
    "## Atbildes uz jautājumiem:"
   ]
  },
  {
   "cell_type": "markdown",
   "metadata": {},
   "source": [
    "1. Kādos gadījumos plēsēji izmirst?\n",
    "- Pirmais gadījums ir , kad x=0 => kad vairs nav zālēdāju, ar ko baroties, tad plēsēji (vilki) logaritmiski izmirst. Otrais gadījums ir, kad ilgu laiku $\\gamma$ \\< $\\delta x$ (Ja $\\gamma$ būs pēc modula lielāka nekā $\\delta x$ , tad plēsēju skaits kritīs līdz sasniegs 0).\n",
    "2. Kā dinamiku ietekmē ilgstošs sausums?\n",
    "- Mūsu gadījumā nav atsevišķa parametra, kas noteic, kā apkartējas vides izmaiņas ietekmē dinamiku. Tomēr mēs varētu pieņemt, ka sausajos laikos lzālēdāju barības paliek mazāk, un ka, samazinoties barībai, dzīvniekiem samazinās vairošanas iespējas( $\\alpha$ ). Turklāt samazinoties $\\alpha$ parametram, palielinās laiks, kas nepieciešams, lai zālēdāju un vilku daudzumam sasniegtu maksimumu.\n",
    "3. Cik loti medījums var savairoties?\n",
    "- Bezgalīgi daudz, jo šajā modelī zālēdājiem nav ierobiežojuma pēc barības. Ja modelī nebūs plēsēju (y/y_init=0), tad zālēdāju skaits augs ekponenciāli uz augšu. "
   ]
  },
  {
   "cell_type": "markdown",
   "metadata": {},
   "source": [
    "## Grafiks ar pipldparametriem"
   ]
  },
  {
   "cell_type": "markdown",
   "metadata": {},
   "source": [
    "Iepriekš izveidotais modelis neatbilst reālajai dzīvei, jo tajā nav ņemti vērā daudzi dzīves apstākļi. Lai pietuvinātu mūsu modeli reālas dzīves situācijai, es pievienoju jaunus parametrus (C(x) un D(y)), kas parāda migrējošo dzīvnieku attiecību pret kopējo masu."
   ]
  },
  {
   "cell_type": "markdown",
   "metadata": {},
   "source": [
    "$$\n",
    "C(x) = \\dfrac{c}{x}\\\\\\\\\n",
    "D(y) = \\dfrac{d}{y}\n",
    "$$"
   ]
  },
  {
   "cell_type": "markdown",
   "metadata": {},
   "source": [
    "\n",
    "$$\n",
    "    \\begin{cases}\n",
    "    \\frac {dx}{dt} = (\\alpha - \\beta y)\\cdot x + \\dfrac{c}{x}\\\\\\\\\n",
    "    \\frac {dy}{dt} = (\\delta x - \\gamma )\\cdot y + \\dfrac{d}{y}\n",
    "    \\end{cases}\n",
    "$$"
   ]
  },
  {
   "cell_type": "markdown",
   "metadata": {},
   "source": [
    "kur\\\n",
    "x - upuru skaits (zālēdāji); \\\n",
    "y - plēsēju skaits; \\\n",
    "$\\alpha$ - varbūtība, ka zālēdāji vairosies; \\\n",
    "$\\beta$ - varbūtība, ka zālēdāju apēdīs plēsējs; \\\n",
    "$\\gamma$ - varbūtība, ka plēsējs nomirs badā; \\\n",
    "$\\delta$ - varbūtība, ka plēsējam ir pietiekami daudz barības, lai turpinātu vairoties;\\\n",
    "c - zālēdāju skaits, kas migrēja; \\\n",
    "d - plēsēju skaits, kas migrēja."
   ]
  },
  {
   "cell_type": "code",
   "execution_count": 43,
   "metadata": {},
   "outputs": [
    {
     "data": {
      "application/vnd.jupyter.widget-view+json": {
       "model_id": "461c36279a9b4bfc8878c966a0a70d1f",
       "version_major": 2,
       "version_minor": 0
      },
      "text/plain": [
       "interactive(children=(FloatSlider(value=0.7, description='alpha', max=1.0, step=0.01), FloatSlider(value=0.3, …"
      ]
     },
     "metadata": {},
     "output_type": "display_data"
    }
   ],
   "source": [
    "interact(update_LoVo_model, \n",
    "        alpha = widgets.FloatSlider(value=0.7,min=0,max=1.0,step=0.01),\n",
    "        beta = widgets.FloatSlider(value=0.3,min=0,max=1.0,step=0.01),\n",
    "        gamma = widgets.FloatSlider(value=0.3,min=0,max=1.0,step=0.01),\n",
    "        delta = widgets.FloatSlider(value=0.5,min=0,max=1.0,step=0.01),\n",
    "        x_init = widgets.FloatSlider(value=10,min=0,max=40,step=1),\n",
    "        y_init = widgets.FloatSlider(value=5,min=0,max=40,step=1),\n",
    "        time_period = widgets.FloatSlider(value= 100,min=1,max=100,step=1),\n",
    "        c = widgets.FloatSlider(value= 0,min=-40,max=40,step=1),\n",
    "        d = widgets.FloatSlider(value= 0,min=-40,max=40,step=1),\n",
    "        which_Lovo_model = fixed(True),\n",
    "        dev = widgets.FloatSlider(value=4,min=0,max=5,step=0.1) \n",
    "        );"
   ]
  },
  {
   "cell_type": "markdown",
   "metadata": {},
   "source": [
    "kur\\\n",
    "alpha - varbūtība, ka zālēdāji vairosies; \\\n",
    "beta - varbūtība, ka zālēdāju apēdīs plēsējs; \\\n",
    "gamma - varbūtība, ka plēsējs nomirs badā; \\\n",
    "delta - varbūtība, ka plēsējam ir pietiekami daudz barības, lai turpinātu vairoties; \\\n",
    "x_init - sākotnējais zāļēdāju skaits; \\\n",
    "y_init - sākotnējais plēsēju skaits; \\\n",
    "time_period - dienu skaits; \\\n",
    "c - zālēdāju skaits, kas migrēja; \\\n",
    "d - plēsēju skaits, kas migrēja; \\\n",
    "dev - stohatiskuma koeficients."
   ]
  },
  {
   "cell_type": "code",
   "execution_count": 12,
   "metadata": {},
   "outputs": [
    {
     "data": {
      "text/plain": [
       "3.6481237754443756e-05"
      ]
     },
     "execution_count": 12,
     "metadata": {},
     "output_type": "execute_result"
    }
   ],
   "source": [
    "t,xs,ys = LoVo_model(0.5,0.5,0.5,0.5,10,5,100,0,0)\n",
    "max_x = m(xs)\n",
    "max_x"
   ]
  },
  {
   "cell_type": "code",
   "execution_count": null,
   "metadata": {},
   "outputs": [],
   "source": []
  }
 ],
 "metadata": {
  "interpreter": {
   "hash": "b0fa6594d8f4cbf19f97940f81e996739fb7646882a419484c72d19e05852a7e"
  },
  "kernelspec": {
   "display_name": "Python 3.9.7 64-bit",
   "language": "python",
   "name": "python3"
  },
  "language_info": {
   "codemirror_mode": {
    "name": "ipython",
    "version": 3
   },
   "file_extension": ".py",
   "mimetype": "text/x-python",
   "name": "python",
   "nbconvert_exporter": "python",
   "pygments_lexer": "ipython3",
   "version": "3.9.7"
  },
  "orig_nbformat": 4
 },
 "nbformat": 4,
 "nbformat_minor": 2
}
