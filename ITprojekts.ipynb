{
 "cells": [
  {
   "cell_type": "markdown",
   "metadata": {},
   "source": [
    "*Diemžēl man ar datorn ir nelilas problēmas, tāpēc man nesanāk palats programs savā datorā. Tomēr es pārbaudīju uz Cities datoriem un tur viss strādā.*"
   ]
  },
  {
   "cell_type": "code",
   "execution_count": 13,
   "metadata": {},
   "outputs": [],
   "source": [
    "import ipywidgets as widgets\n",
    "from ipywidgets import interact, interactive, fixed, interact_manual\n",
    "import matplotlib.pyplot as plt\n",
    "import numpy as np\n",
    "from random import uniform\n",
    "import pandas as pd\n",
    "import itertools"
   ]
  },
  {
   "cell_type": "markdown",
   "metadata": {},
   "source": [
    "# Plēsēju-medījuma dinamikas analīze\n",
    "## Lotka-Volterra modelis\n",
    "Amerikānis Alfrēds Lotka (Alfred Lotka) un itālis Vito Volterra (Vito Volterra) ir izstrādājuši modeli, lai aprakstītu, kā plēsēju un to zālēdāju upuru populācijas mainās atkarībā no dažādiem iespējamiem apstākļiem."
   ]
  },
  {
   "cell_type": "markdown",
   "metadata": {},
   "source": [
    "Lotka-Volterra sistēma ir sākotnējā un vienkāršākā sistēma (pastāv arī sarežģītākas sistēmas, piemēram, tā, kas iekłauj arī dzīvnieku migrāciju), lai aprakstītu plēsoņa un upura modeli, t. i., plēsēju populācija un upuru populācija mijiedarbojas kādā vidē: upuri ēd veģetāciju, plēsēji ēd upurus:"
   ]
  },
  {
   "cell_type": "markdown",
   "metadata": {},
   "source": [
    "$$\n",
    "    \\begin{cases}\n",
    "    \\frac {dx}{dt} = (\\alpha - \\beta y)\\cdot x\\\\\n",
    "    \\frac {dy}{dt} = (\\delta x - \\gamma )\\cdot y\n",
    "    \\end{cases}\n",
    "$$"
   ]
  },
  {
   "cell_type": "markdown",
   "metadata": {},
   "source": [
    "kur\\\n",
    "x - upuru skaits (zālēdāji); \\\n",
    "y - plēsēju skaits; \\\n",
    "$\\alpha$ - varbūtība, ka zālēdāji vairosies; \\\n",
    "$\\beta$ - varbūtība, ka zālēdāju apēdīs plēsējs; \\\n",
    "$\\gamma$ - varbūtība, ka plēsējs nomirs badā; \\\n",
    "$\\delta$ - varbūtība, ka plēsējam ir pietiekami daudz barības, lai turpinātu vairoties."
   ]
  },
  {
   "cell_type": "markdown",
   "metadata": {},
   "source": [
    "Šajā projektā tiek analizēta plesēju-medijuma dinamika, izmantojot Lotka-Volterra modeli. "
   ]
  },
  {
   "cell_type": "markdown",
   "metadata": {},
   "source": [
    "Par plēsēju es pieņemu vilku\\\n",
    "![Vilks](https://img.latvijasdaba.lv/content/ziditaji/canis-lupus-linnaeus-1758-B-420x300.jpg)"
   ]
  },
  {
   "cell_type": "markdown",
   "metadata": {},
   "source": [
    "Par upuri(zālēdāju) es pieņemu aitu\\\n",
    "![Aita](https://cdn.valmieraszinas.lv/wp-content/uploads/2014/07/aita.jpg)"
   ]
  },
  {
   "cell_type": "markdown",
   "metadata": {},
   "source": [
    "## Funkcijas grafiks"
   ]
  },
  {
   "cell_type": "code",
   "execution_count": 9,
   "metadata": {},
   "outputs": [
    {
     "data": {
      "application/vnd.jupyter.widget-view+json": {
       "model_id": "b5bbf60fbd6d4d4fbea18d71acad61b6",
       "version_major": 2,
       "version_minor": 0
      },
      "text/plain": [
       "interactive(children=(FloatSlider(value=0.7, description='alpha', max=1.0, step=0.01), FloatSlider(value=0.3, …"
      ]
     },
     "metadata": {},
     "output_type": "display_data"
    }
   ],
   "source": [
    "x_init = 10 \n",
    "y_init = 5 \n",
    "\n",
    "def x_derivative(alpha, beta,x,y,c=0):\n",
    "       return (alpha-beta*y)*x+c/x\n",
    "\n",
    "def y_derivative(gamma, delta,x, y,d=0):\n",
    "        return (delta*x-gamma)*y+d/y\n",
    "\n",
    "def LoVo_model(alpha, beta, gamma, delta, x_init, y_init, ts,c=0,d=0, dev=0.0):\n",
    "        xs=[x_init]\n",
    "        ys=[y_init]\n",
    "        \n",
    "        stepsize = (ts-0)/(ts*100)\n",
    "\n",
    "        t = np.linspace(0, ts, ts*100)\n",
    "        for _ in t:\n",
    "                x = xs[-1]\n",
    "                y = ys[-1]\n",
    "                x1 = x_derivative(alpha, beta, x, y,c)\n",
    "                y1 = y_derivative(gamma, delta, x, y,d)\n",
    "                if dev!=0:\n",
    "                        x1*=uniform(1-dev,1+dev)                \n",
    "                        y1*=uniform(1-dev,1+dev)\n",
    "                xs.append(x+x1*stepsize) #riemann sum\n",
    "                ys.append(y+y1*stepsize)\n",
    "        return t,xs,ys\n",
    "\n",
    "def plot_LoVo_model(t,xs,ys,ts):\n",
    "        fig, ax = plt.subplots(figsize=(6, 4))\n",
    "        ax.grid(True)   \n",
    "        [l.remove() for l in ax.lines]\n",
    "        #plot new\n",
    "        t=np.linspace(0, ts, ts*100+1)\n",
    "        x, = ax.plot(t,xs, linewidth=0.5, color='blue')\n",
    "        y, = ax.plot(t,ys, linewidth=0.5, color='red')\n",
    "        plt.xlabel('Laiks') \n",
    "        plt.ylabel('Dzīvnieku skaits') \n",
    "        plt.title('Plēsēju un zālēdaju daudzums atkārībā no laika')\n",
    "        return fig\n",
    "\n",
    "def plot_LOVO_model_2(xs,ys):\n",
    "        fig, ax = plt.subplots(figsize = (6,4))\n",
    "        ax.grid(True)\n",
    "        [l.remove() for l in ax.lines]\n",
    "        x, = ax.plot(xs,ys, linewidth=0.5, color='green')\n",
    "        plt.xlabel('Zālēdāju skaits') \n",
    "        plt.ylabel('Plēsēju skaits') \n",
    "        plt.title('Sakarība starp plēsēju un zālēdaju skaitu')\n",
    "        return fig\n",
    "\n",
    "def update_LoVo_model(alpha, beta, gamma, delta, x_init, y_init, time_period,c=0,d=0,which_Lovo_model=True,dev=0):\n",
    "        time_period = int(time_period)\n",
    "        t, xs, ys = LoVo_model(alpha, beta, gamma, delta, x_init, y_init, time_period,c,d,dev)\n",
    "        if(which_Lovo_model==True):\n",
    "                fig = plot_LoVo_model(t, xs, ys, time_period)\n",
    "        else:\n",
    "                fig = plot_LOVO_model_2(xs,ys)\n",
    "        fig.canvas.draw()\n",
    "        return alpha\n",
    "        \n",
    "\n",
    "interact(update_LoVo_model, \n",
    "       alpha = widgets.FloatSlider(value=0.7,min=0,max=1.0,step=0.01),\n",
    "        beta = widgets.FloatSlider(value=0.3,min=0,max=1.0,step=0.01),\n",
    "        gamma = widgets.FloatSlider(value=0.3,min=0,max=1.0,step=0.01),\n",
    "        delta = widgets.FloatSlider(value=0.5,min=0,max=1.0,step=0.01),\n",
    "        x_init = widgets.FloatSlider(value=10,min=0,max=40,step=1),\n",
    "        y_init = widgets.FloatSlider(value=5,min=0,max=40,step=1),\n",
    "        time_period = widgets.FloatSlider(value= 100,min=1,max=100,step=1),\n",
    "        c = fixed(0),\n",
    "        d = fixed(0),\n",
    "        which_Lovo_model = fixed(True),\n",
    "        dev =  widgets.FloatSlider(value=4,min=0,max=5,step=0.1)       \n",
    "        );"
   ]
  },
  {
   "cell_type": "markdown",
   "metadata": {},
   "source": [
    "kur\\\n",
    "alpha - varbūtība, ka zālēdāji vairosies;   \n",
    "beta - varbūtība, ka zālēdāju apēdīs plēsējs;   \n",
    "gamma - varbūtība, ka plēsējs nomirs badā;   \n",
    "delta - varbūtība, ka plēsējam ir pietiekami daudz barības, lai turpinātu vairoties;   \n",
    "x_init - sākotnējais zāļēdāju skaits;   \n",
    "y_init - sākotnējais plēsēju skaits;   \n",
    "time_period - dienu skaits;   \n",
    "dev - stohatiskuma koeficients.\n"
   ]
  },
  {
   "cell_type": "markdown",
   "metadata": {},
   "source": [
    "## Sakarība starp plēsēju un zālēdaju skaitu"
   ]
  },
  {
   "cell_type": "markdown",
   "metadata": {},
   "source": [
    "Vienā no saviem darbiem Lotka kā piemēru aprakstīja auga un zālēdāja mijiedarbību un nonāca pie viņam pašam negaidīta rezultāta: to mijiedarbība izraisītu abu populāciju bezgalīgas cikliskas svārstības! Fāžu līknes iet pa apli, veidojot bezgalīgas cikliskas svārstības. Vēlāk Lotka šo novērojumu attiecināja arī uz plēsēja un upura mijiedarbību (šī mijiedarbība ir parādīta grafikā zemāk). Tas nozīmē, ka vienas sugas īpatņu skaits pieaugs, citas sugas īpatņu skaits samazināsies, tad otrādi, un tā neierobežotu laiku (protams, saprātīgās robežās)."
   ]
  },
  {
   "cell_type": "code",
   "execution_count": 10,
   "metadata": {},
   "outputs": [
    {
     "data": {
      "application/vnd.jupyter.widget-view+json": {
       "model_id": "3f8f4af7bc404d7d849e4157cdc40318",
       "version_major": 2,
       "version_minor": 0
      },
      "text/plain": [
       "interactive(children=(FloatSlider(value=0.4, description='alpha', max=1.0, step=0.01), FloatSlider(value=0.1, …"
      ]
     },
     "metadata": {},
     "output_type": "display_data"
    }
   ],
   "source": [
    "interact(update_LoVo_model, \n",
    "       alpha = widgets.FloatSlider(value=0.4,min=0,max=1.0,step=0.01),\n",
    "        beta = widgets.FloatSlider(value=0.1,min=0,max=1.0,step=0.01),\n",
    "        gamma = widgets.FloatSlider(value=0.7,min=0,max=1.0,step=0.01),\n",
    "        delta = widgets.FloatSlider(value=0.5,min=0,max=1.0,step=0.01),\n",
    "        x_init = widgets.FloatSlider(value=10,min=0,max=40,step=1),\n",
    "        y_init = widgets.FloatSlider(value=5,min=0,max=40,step=1),\n",
    "        time_period = widgets.FloatSlider(value= 1000,min=1,max=10000,step=1),\n",
    "        c = fixed(0),\n",
    "        d = fixed(0),\n",
    "        which_Lovo_model = fixed(False)        \n",
    "        );"
   ]
  },
  {
   "cell_type": "markdown",
   "metadata": {},
   "source": [
    "kur  \n",
    "alpha - varbūtība, ka zālēdāji vairosies;   \n",
    "beta - varbūtība, ka zālēdāju apēdīs plēsējs;   \n",
    "gamma - varbūtība, ka plēsējs nomirs badā;   \n",
    "delta - varbūtība, ka plēsējam ir pietiekami daudz barības, lai turpinātu vairoties;   \n",
    "x_init - sākotnējais zāļēdāju skaits;   \n",
    "y_init - sākotnējais plēsēju skaits;   \n",
    "time_period - dienu skaits;   \n",
    "dev - stohatiskuma koeficients."
   ]
  },
  {
   "cell_type": "markdown",
   "metadata": {},
   "source": [
    "## Atbildes uz jautājumiem:"
   ]
  },
  {
   "cell_type": "markdown",
   "metadata": {},
   "source": [
    "1. Kādos gadījumos plēsēji izmirst?\n",
    "- Pirmais gadījums ir , kad x=0 => kad vairs nav zālēdāju, ar ko baroties, tad plēsēji (vilki) logaritmiski izmirst. Otrais gadījums ir, kad ilgu laiku $\\gamma$ \\< $\\delta x$ (Ja $\\gamma$ būs pēc modula lielāka nekā $\\delta x$ , tad plēsēju skaits kritīs līdz sasniegs 0).\n",
    "2. Kā dinamiku ietekmē ilgstošs sausums?\n",
    "- Mūsu gadījumā nav atsevišķa parametra, kas noteic, kā apkartējas vides izmaiņas ietekmē dinamiku. Tomēr mēs varētu pieņemt, ka sausajos laikos lzālēdāju barības paliek mazāk, un ka, samazinoties barībai, dzīvniekiem samazinās vairošanas iespējas( $\\alpha$ ). Turklāt samazinoties $\\alpha$ parametram, palielinās laiks, kas nepieciešams, lai zālēdāju un vilku daudzumam sasniegtu maksimumu.\n",
    "3. Cik loti medījums var savairoties?\n",
    "- Bezgalīgi daudz, jo šajā modelī zālēdājiem nav ierobiežojuma pēc barības. Ja modelī nebūs plēsēju (y/y_init=0), tad zālēdāju skaits augs ekponenciāli uz augšu. "
   ]
  },
  {
   "cell_type": "markdown",
   "metadata": {},
   "source": [
    "## Grafiks ar pipldparametriem"
   ]
  },
  {
   "cell_type": "markdown",
   "metadata": {},
   "source": [
    "Iepriekš izveidotais modelis neatbilst reālajai dzīvei, jo tajā nav ņemti vērā daudzi dzīves apstākļi. Lai pietuvinātu mūsu modeli reālas dzīves situācijai, es pievienoju jaunus parametrus (C(x) un D(y)), kas parāda migrējošo dzīvnieku attiecību pret kopējo masu."
   ]
  },
  {
   "cell_type": "markdown",
   "metadata": {},
   "source": [
    "$$\n",
    "C(x) = \\dfrac{c}{x}\\\\\\\\\n",
    "D(y) = \\dfrac{d}{y}\n",
    "$$"
   ]
  },
  {
   "cell_type": "markdown",
   "metadata": {},
   "source": [
    "\n",
    "$$\n",
    "    \\begin{cases}\n",
    "    \\frac {dx}{dt} = (\\alpha - \\beta y)\\cdot x + \\dfrac{c}{x}\\\\\\\\\n",
    "    \\frac {dy}{dt} = (\\delta x - \\gamma )\\cdot y + \\dfrac{d}{y}\n",
    "    \\end{cases}\n",
    "$$"
   ]
  },
  {
   "cell_type": "markdown",
   "metadata": {},
   "source": [
    "kur\\\n",
    "x - upuru skaits (zālēdāji); \\\n",
    "y - plēsēju skaits; \\\n",
    "$\\alpha$ - varbūtība, ka zālēdāji vairosies; \\\n",
    "$\\beta$ - varbūtība, ka zālēdāju apēdīs plēsējs; \\\n",
    "$\\gamma$ - varbūtība, ka plēsējs nomirs badā; \\\n",
    "$\\delta$ - varbūtība, ka plēsējam ir pietiekami daudz barības, lai turpinātu vairoties;\\\n",
    "c - zālēdāju skaits, kas migrēja; \\\n",
    "d - plēsēju skaits, kas migrēja."
   ]
  },
  {
   "cell_type": "code",
   "execution_count": 11,
   "metadata": {},
   "outputs": [
    {
     "data": {
      "application/vnd.jupyter.widget-view+json": {
       "model_id": "8f051d1fb0634ffeb42ea4933e5aa27b",
       "version_major": 2,
       "version_minor": 0
      },
      "text/plain": [
       "interactive(children=(FloatSlider(value=0.7, description='alpha', max=1.0, step=0.01), FloatSlider(value=0.3, …"
      ]
     },
     "metadata": {},
     "output_type": "display_data"
    }
   ],
   "source": [
    "interact(update_LoVo_model, \n",
    "        alpha = widgets.FloatSlider(value=0.7,min=0,max=1.0,step=0.01),\n",
    "        beta = widgets.FloatSlider(value=0.3,min=0,max=1.0,step=0.01),\n",
    "        gamma = widgets.FloatSlider(value=0.3,min=0,max=1.0,step=0.01),\n",
    "        delta = widgets.FloatSlider(value=0.5,min=0,max=1.0,step=0.01),\n",
    "        x_init = widgets.FloatSlider(value=10,min=0,max=40,step=1),\n",
    "        y_init = widgets.FloatSlider(value=5,min=0,max=40,step=1),\n",
    "        time_period = widgets.FloatSlider(value= 100,min=1,max=100,step=1),\n",
    "        c = widgets.FloatSlider(value= 0,min=-40,max=40,step=1),\n",
    "        d = widgets.FloatSlider(value= 0,min=-40,max=40,step=1),\n",
    "        which_Lovo_model = fixed(True),\n",
    "        dev = widgets.FloatSlider(value=4,min=0,max=5,step=0.1) \n",
    "        );"
   ]
  },
  {
   "cell_type": "markdown",
   "metadata": {},
   "source": [
    "kur  \n",
    "alpha - varbūtība, ka zālēdāji vairosies;   \n",
    "beta - varbūtība, ka zālēdāju apēdīs plēsējs;   \n",
    "gamma - varbūtība, ka plēsējs nomirs badā;   \n",
    "delta - varbūtība, ka plēsējam ir pietiekami daudz barības, lai turpinātu vairoties;   \n",
    "x_init - sākotnējais zāļēdāju skaits;   \n",
    "y_init - sākotnējais plēsēju skaits;   \n",
    "time_period - dienu skaits;   \n",
    "c - zālēdāju skaits, kas migrēja;   \n",
    "d - plēsēju skaits, kas migrēja;   \n",
    "dev - stohatiskuma koeficients."
   ]
  },
  {
   "cell_type": "markdown",
   "metadata": {},
   "source": [
    "## Eksperimenti"
   ]
  },
  {
   "cell_type": "markdown",
   "metadata": {},
   "source": [
    "Tālāk ir izveidota tabula, kas atpogaļo, kāds ir maksimālais un minimālais skaits zālēdājiem un plēsējiem atkarībā no koeficientiem( $\\alpha$ , $\\beta$ , $\\gamma$ , $\\delta$ ) . Lai to uztaisītu es izmantoju `itertools.product()`, kas palīdz apskatīt visus iespējamus variantus ar dotajiem koeficientiem (tā kā apskatīt visus variantus(10k varianti) ir ilgi es ņemu soli 0.125 (sanāca 625 varianti))."
   ]
  },
  {
   "cell_type": "code",
   "execution_count": 18,
   "metadata": {},
   "outputs": [],
   "source": [
    "def min_max_LoVo(xs,ys):\n",
    "    max_x = max(xs)\n",
    "    min_x = min(xs)\n",
    "    max_y = max(ys)\n",
    "    min_y = min(ys)\n",
    "    return [max_x, min_x, max_y , min_y]\n"
   ]
  },
  {
   "cell_type": "code",
   "execution_count": 41,
   "metadata": {},
   "outputs": [],
   "source": [
    "alpha_range = np.linspace(0.1, 1, 5)\n",
    "beta_range = np.linspace(0.1, 1, 5)\n",
    "delta_range = np.linspace(0.1, 1, 5)\n",
    "gamma_range = np.linspace(0.1, 1, 5)"
   ]
  },
  {
   "cell_type": "code",
   "execution_count": 47,
   "metadata": {},
   "outputs": [],
   "source": [
    "data=[]\n",
    "for alpha, beta, delta, gamma in itertools.product(alpha_range,beta_range,delta_range,gamma_range):\n",
    "    t,xs,ys = LoVo_model(alpha,beta,delta,gamma,10,5,100,0,0)\n",
    "    data.append([alpha,beta,gamma,delta]+min_max_LoVo(xs,ys))\n",
    "experiment = pd.DataFrame(data, columns=['alpha', 'beta', 'gamma', 'delta','Maksimāls zāļēdāju skaits','Minimāls zāļēdāju skaits','Maksimāls plēsēju skaits','Minimāls plēsēju skaits'])"
   ]
  },
  {
   "cell_type": "code",
   "execution_count": 46,
   "metadata": {},
   "outputs": [
    {
     "data": {
      "text/html": [
       "<div>\n",
       "<style scoped>\n",
       "    .dataframe tbody tr th:only-of-type {\n",
       "        vertical-align: middle;\n",
       "    }\n",
       "\n",
       "    .dataframe tbody tr th {\n",
       "        vertical-align: top;\n",
       "    }\n",
       "\n",
       "    .dataframe thead th {\n",
       "        text-align: right;\n",
       "    }\n",
       "</style>\n",
       "<table border=\"1\" class=\"dataframe\">\n",
       "  <thead>\n",
       "    <tr style=\"text-align: right;\">\n",
       "      <th></th>\n",
       "      <th>alpha</th>\n",
       "      <th>beta</th>\n",
       "      <th>gamma</th>\n",
       "      <th>delta</th>\n",
       "      <th>Maksimāls zāļēdāju skaits</th>\n",
       "      <th>Minimāls zāļēdāju skaits</th>\n",
       "      <th>Maksimāls plēsēju skaits</th>\n",
       "      <th>Minimāls plēsēju skaits</th>\n",
       "    </tr>\n",
       "  </thead>\n",
       "  <tbody>\n",
       "    <tr>\n",
       "      <th>0</th>\n",
       "      <td>0.1</td>\n",
       "      <td>0.1</td>\n",
       "      <td>0.100</td>\n",
       "      <td>0.1</td>\n",
       "      <td>10.000000</td>\n",
       "      <td>3.954431e-05</td>\n",
       "      <td>12.638568</td>\n",
       "      <td>8.206794e-04</td>\n",
       "    </tr>\n",
       "    <tr>\n",
       "      <th>1</th>\n",
       "      <td>0.1</td>\n",
       "      <td>0.1</td>\n",
       "      <td>0.325</td>\n",
       "      <td>0.1</td>\n",
       "      <td>10.000000</td>\n",
       "      <td>4.875401e-15</td>\n",
       "      <td>35.034693</td>\n",
       "      <td>1.897338e-03</td>\n",
       "    </tr>\n",
       "    <tr>\n",
       "      <th>2</th>\n",
       "      <td>0.1</td>\n",
       "      <td>0.1</td>\n",
       "      <td>0.550</td>\n",
       "      <td>0.1</td>\n",
       "      <td>10.000000</td>\n",
       "      <td>4.535754e-25</td>\n",
       "      <td>57.575609</td>\n",
       "      <td>2.954451e-03</td>\n",
       "    </tr>\n",
       "    <tr>\n",
       "      <th>3</th>\n",
       "      <td>0.1</td>\n",
       "      <td>0.1</td>\n",
       "      <td>0.775</td>\n",
       "      <td>0.1</td>\n",
       "      <td>10.000000</td>\n",
       "      <td>3.174505e-35</td>\n",
       "      <td>80.141849</td>\n",
       "      <td>3.999973e-03</td>\n",
       "    </tr>\n",
       "    <tr>\n",
       "      <th>4</th>\n",
       "      <td>0.1</td>\n",
       "      <td>0.1</td>\n",
       "      <td>1.000</td>\n",
       "      <td>0.1</td>\n",
       "      <td>10.000000</td>\n",
       "      <td>1.660057e-45</td>\n",
       "      <td>102.721546</td>\n",
       "      <td>5.039576e-03</td>\n",
       "    </tr>\n",
       "    <tr>\n",
       "      <th>...</th>\n",
       "      <td>...</td>\n",
       "      <td>...</td>\n",
       "      <td>...</td>\n",
       "      <td>...</td>\n",
       "      <td>...</td>\n",
       "      <td>...</td>\n",
       "      <td>...</td>\n",
       "      <td>...</td>\n",
       "    </tr>\n",
       "    <tr>\n",
       "      <th>620</th>\n",
       "      <td>1.0</td>\n",
       "      <td>1.0</td>\n",
       "      <td>0.100</td>\n",
       "      <td>1.0</td>\n",
       "      <td>79.788732</td>\n",
       "      <td>2.105882e-02</td>\n",
       "      <td>8.108801</td>\n",
       "      <td>3.135515e-03</td>\n",
       "    </tr>\n",
       "    <tr>\n",
       "      <th>621</th>\n",
       "      <td>1.0</td>\n",
       "      <td>1.0</td>\n",
       "      <td>0.325</td>\n",
       "      <td>1.0</td>\n",
       "      <td>32.087211</td>\n",
       "      <td>6.123358e-04</td>\n",
       "      <td>10.620185</td>\n",
       "      <td>3.889548e-04</td>\n",
       "    </tr>\n",
       "    <tr>\n",
       "      <th>622</th>\n",
       "      <td>1.0</td>\n",
       "      <td>1.0</td>\n",
       "      <td>0.550</td>\n",
       "      <td>1.0</td>\n",
       "      <td>23.818692</td>\n",
       "      <td>2.474644e-05</td>\n",
       "      <td>13.364805</td>\n",
       "      <td>3.603259e-05</td>\n",
       "    </tr>\n",
       "    <tr>\n",
       "      <th>623</th>\n",
       "      <td>1.0</td>\n",
       "      <td>1.0</td>\n",
       "      <td>0.775</td>\n",
       "      <td>1.0</td>\n",
       "      <td>21.190432</td>\n",
       "      <td>5.498534e-07</td>\n",
       "      <td>16.784320</td>\n",
       "      <td>2.157882e-06</td>\n",
       "    </tr>\n",
       "    <tr>\n",
       "      <th>624</th>\n",
       "      <td>1.0</td>\n",
       "      <td>1.0</td>\n",
       "      <td>1.000</td>\n",
       "      <td>1.0</td>\n",
       "      <td>19.115793</td>\n",
       "      <td>2.346617e-08</td>\n",
       "      <td>19.563526</td>\n",
       "      <td>3.115970e-08</td>\n",
       "    </tr>\n",
       "  </tbody>\n",
       "</table>\n",
       "<p>625 rows × 8 columns</p>\n",
       "</div>"
      ],
      "text/plain": [
       "     alpha  beta  gamma  delta  Maksimāls zāļēdāju skaits  \\\n",
       "0      0.1   0.1  0.100    0.1                  10.000000   \n",
       "1      0.1   0.1  0.325    0.1                  10.000000   \n",
       "2      0.1   0.1  0.550    0.1                  10.000000   \n",
       "3      0.1   0.1  0.775    0.1                  10.000000   \n",
       "4      0.1   0.1  1.000    0.1                  10.000000   \n",
       "..     ...   ...    ...    ...                        ...   \n",
       "620    1.0   1.0  0.100    1.0                  79.788732   \n",
       "621    1.0   1.0  0.325    1.0                  32.087211   \n",
       "622    1.0   1.0  0.550    1.0                  23.818692   \n",
       "623    1.0   1.0  0.775    1.0                  21.190432   \n",
       "624    1.0   1.0  1.000    1.0                  19.115793   \n",
       "\n",
       "     Minimāls zāļēdāju skaits  Maksimāls plēsēju skaits  \\\n",
       "0                3.954431e-05                 12.638568   \n",
       "1                4.875401e-15                 35.034693   \n",
       "2                4.535754e-25                 57.575609   \n",
       "3                3.174505e-35                 80.141849   \n",
       "4                1.660057e-45                102.721546   \n",
       "..                        ...                       ...   \n",
       "620              2.105882e-02                  8.108801   \n",
       "621              6.123358e-04                 10.620185   \n",
       "622              2.474644e-05                 13.364805   \n",
       "623              5.498534e-07                 16.784320   \n",
       "624              2.346617e-08                 19.563526   \n",
       "\n",
       "     Minimāls plēsēju skaits  \n",
       "0               8.206794e-04  \n",
       "1               1.897338e-03  \n",
       "2               2.954451e-03  \n",
       "3               3.999973e-03  \n",
       "4               5.039576e-03  \n",
       "..                       ...  \n",
       "620             3.135515e-03  \n",
       "621             3.889548e-04  \n",
       "622             3.603259e-05  \n",
       "623             2.157882e-06  \n",
       "624             3.115970e-08  \n",
       "\n",
       "[625 rows x 8 columns]"
      ]
     },
     "execution_count": 46,
     "metadata": {},
     "output_type": "execute_result"
    }
   ],
   "source": [
    "experiment"
   ]
  }
 ],
 "metadata": {
  "interpreter": {
   "hash": "b0fa6594d8f4cbf19f97940f81e996739fb7646882a419484c72d19e05852a7e"
  },
  "kernelspec": {
   "display_name": "Python 3.9.7 64-bit",
   "language": "python",
   "name": "python3"
  },
  "language_info": {
   "codemirror_mode": {
    "name": "ipython",
    "version": 3
   },
   "file_extension": ".py",
   "mimetype": "text/x-python",
   "name": "python",
   "nbconvert_exporter": "python",
   "pygments_lexer": "ipython3",
   "version": "3.9.7"
  },
  "orig_nbformat": 4
 },
 "nbformat": 4,
 "nbformat_minor": 2
}
